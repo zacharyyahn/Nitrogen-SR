{
 "cells": [
  {
   "cell_type": "code",
   "execution_count": 2,
   "id": "585d8466-6951-4196-8fe9-e449c8ac7a42",
   "metadata": {},
   "outputs": [],
   "source": [
    "import os\n",
    "import pandas as pd\n",
    "import numpy as np\n",
    "from scipy.io import netcdf\n",
    "import matplotlib.pyplot as plt\n",
    "import netCDF4 as nc\n",
    "from PIL import Image\n",
    "from tqdm import tqdm"
   ]
  },
  {
   "cell_type": "code",
   "execution_count": null,
   "id": "99c92cdc-1824-405c-b8c3-aed716521462",
   "metadata": {},
   "outputs": [
    {
     "name": "stderr",
     "output_type": "stream",
     "text": [
      " 23%|██████████████████▏                                                            | 754/3276 [04:54<26:02,  1.61it/s]"
     ]
    }
   ],
   "source": [
    "#This code reads the .npy files, min-max normalizes them, and saves them as formatted images of the same size \n",
    "#in Dataset/Formatted and also as unscaled images in Dataset/Unscaled\n",
    "\n",
    "imgs = pd.read_csv(\"../Dataset/Raw/samples_S2S5P_monthly_epa.csv\")\n",
    "channel_maxes = [16880, 17744, 18032, 16160, 15699, 15469, 15195, 15796, 14197, 15078, 6599, 6885]\n",
    "channel_mins = [0, 1, 0, 0, 42, 1, 1, 1, 3, 8, 0, 1]\n",
    "ten_m_channels = [0, 1, 2, 3]\n",
    "twenty_m_channels = [4, 5, 6, 7, 8, 9]\n",
    "sixty_m_channels = [10, 11]\n",
    "num_channels = 12\n",
    "for i in tqdm(range(len(imgs[\"img_path\"]))):\n",
    "    #Read in the sentinel-2 (npy) and sentinel-5p (netcdf) files\n",
    "    sentinel2_image = np.load(\"../Dataset/Raw/sentinel-2/\" + imgs[\"img_path\"][i])\n",
    "    for channel in range(num_channels):\n",
    "\n",
    "        #First select the channel from 12\n",
    "        one_channel_image = sentinel2_image[:, :, channel]\n",
    "        \n",
    "        #Scale the channel according to the max and min values of that channel for the whole dataset\n",
    "        maxs[channel] = np.max((maxs[channel], np.max(one_channel_image)))\n",
    "        mins[channel] = np.min((mins[channel], np.min(one_channel_image)))\n",
    "        one_channel_image = 255.0 * (one_channel_image - channel_mins[channel]) / (channel_maxes[channel] - channel_mins[channel])\n",
    "\n",
    "        #Convert to an image and save in Formatted\n",
    "        one_channel_image = Image.fromarray(one_channel_image).convert('RGB')\n",
    "        one_channel_image.save(\"../Dataset/Formatted/\" + str(imgs[\"idx\"][i]) + \"-\" + imgs[\"AirQualityStation\"][i] + \"_\" + str(channel) + \".png\")\n",
    "\n",
    "        #Unscale the images and save in a separate folder for SR\n",
    "        if channel in ten_m_channels:\n",
    "            one_channel_image.save(\"../Dataset/Unscaled/\" + str(imgs[\"idx\"][i]) + \"-\" + imgs[\"AirQualityStation\"][i] + \"_\" + str(channel) + \".png\")\n",
    "        if channel in twenty_m_channels:\n",
    "            one_channel_image = one_channel_image.resize((100, 100))\n",
    "            one_channel_image.save(\"../Dataset/Unscaled/\" + str(imgs[\"idx\"][i]) + \"-\" + imgs[\"AirQualityStation\"][i] + \"_\" + str(channel) + \".png\")\n",
    "        if channel in sixty_m_channels:\n",
    "            one_channel_image = one_channel_image.resize((33, 33))\n",
    "            one_channel_image.save(\"../Dataset/Unscaled/\" + str(imgs[\"idx\"][i]) + \"-\" + imgs[\"AirQualityStation\"][i] + \"_\" + str(channel) + \".png\")\n",
    "            \n",
    "        \n",
    "    #sentinel5p_image = np.loads(\"../Dataset/Raw/sentinel-5p/\" + imgs[\"s5p_path\"][i])\n"
   ]
  },
  {
   "cell_type": "code",
   "execution_count": 6,
   "id": "ad67981b-a856-433d-b738-bdaae8e30781",
   "metadata": {},
   "outputs": [
    {
     "name": "stdout",
     "output_type": "stream",
     "text": [
      "[16880, 17744, 18032, 16160, 15699, 15469, 15195, 15796, 14197, 15078, 6599, 6885]\n",
      "[0, 1, 0, 0, 42, 1, 1, 1, 3, 8, 0, 1]\n"
     ]
    }
   ],
   "source": [
    "print(maxs)\n",
    "print(mins)"
   ]
  },
  {
   "cell_type": "code",
   "execution_count": 33,
   "id": "ffb2f286-7029-416f-bd3a-bee58a3d2aef",
   "metadata": {
    "scrolled": true
   },
   "outputs": [
    {
     "name": "stdout",
     "output_type": "stream",
     "text": [
      "<class 'netCDF4._netCDF4.Dataset'>\n",
      "root group (NETCDF4 data model, file format HDF5):\n",
      "    grid_mapping: spatial_ref\n",
      "    dimensions(sizes): time(16), longitude(120), latitude(120)\n",
      "    variables(dimensions): int64 spatial_ref(), int64 time(time), float64 longitude(longitude), float64 latitude(latitude), float64 tropospheric_NO2_column_number_density(time, latitude, longitude), float64 NO2_column_number_density(time, latitude, longitude), float64 stratospheric_NO2_column_number_density(time, latitude, longitude), float64 NO2_slant_column_number_density(time, latitude, longitude), float64 cloud_fraction(time, latitude, longitude), float64 absorbing_aerosol_index(time, latitude, longitude), float64 tropopause_pressure(time, latitude, longitude)\n",
      "    groups: \n"
     ]
    },
    {
     "data": {
      "image/png": "[encoded data removed]",
      "text/plain": [
       "<Figure size 640x480 with 1 Axes>"
      ]
     },
     "metadata": {},
     "output_type": "display_data"
    }
   ],
   "source": [
    "file = nc.Dataset(\"../Dataset/Raw/sentinel-5p/\" + imgs[\"s5p_path\"][0],'r')\n",
    "plt.imshow(file[\"NO2_column_number_density\"][0, :, :])\n",
    "print(file)"
   ]
  },
  {
   "cell_type": "code",
   "execution_count": null,
   "id": "e6bb8899-4588-4071-aaa2-50f5f28faac7",
   "metadata": {},
   "outputs": [],
   "source": []
  }
 ],
 "metadata": {
  "kernelspec": {
   "display_name": "Python 3 (ipykernel)",
   "language": "python",
   "name": "python3"
  },
  "language_info": {
   "codemirror_mode": {
    "name": "ipython",
    "version": 3
   },
   "file_extension": ".py",
   "mimetype": "text/x-python",
   "name": "python",
   "nbconvert_exporter": "python",
   "pygments_lexer": "ipython3",
   "version": "3.11.5"
  }
 },
 "nbformat": 4,
 "nbformat_minor": 5
}
