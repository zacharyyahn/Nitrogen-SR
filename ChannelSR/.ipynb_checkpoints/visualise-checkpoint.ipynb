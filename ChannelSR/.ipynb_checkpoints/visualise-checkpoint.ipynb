{
 "cells": [
  {
   "cell_type": "code",
   "execution_count": 5,
   "id": "71b0771c-6cac-4d47-8944-7dec46018362",
   "metadata": {},
   "outputs": [],
   "source": [
    "from tqdm import tqdm\n",
    "from torchvision import transforms\n",
    "from utils.params import Params\n",
    "import models.rcan\n",
    "import models.ninab1\n",
    "import models.ninab2_20m\n",
    "import models.edsr\n",
    "import torch\n",
    "import matplotlib.pyplot as plt\n",
    "import numpy as np\n",
    "import cv2\n",
    "%matplotlib inline"
   ]
  },
  {
   "cell_type": "code",
   "execution_count": 7,
   "id": "aec1012c-9bfb-4780-b191-a66807f1cb5c",
   "metadata": {},
   "outputs": [],
   "source": [
    "### CONFIG ###\n",
    "channels = [4, 5, 6, 7, 8, 9]\n",
    "model_files = [\"ninab2_20m_v0\"]\n",
    "path = \"../Dataset/Unscaled/0-06-097-0004\""
   ]
  },
  {
   "cell_type": "code",
   "execution_count": null,
   "id": "4950c2f1-b09c-41f3-88cc-e4fc177b04ae",
   "metadata": {
    "scrolled": true
   },
   "outputs": [],
   "source": [
    "#Setup\n",
    "model_dict = {\n",
    "    \"edsr\": models.edsr,\n",
    "    \"rcan\": models.rcan,\n",
    "    \"ninab1\": models.ninab1,\n",
    "    \"ninab2\": models.ninab2_20m\n",
    "}\n",
    "device = torch.device('cuda:0' if torch.cuda.is_available() else 'cpu')\n",
    "trans = transforms.Compose([\n",
    "    transforms.ToTensor()])\n",
    "\n",
    "#Load in and prepare the trained models\n",
    "trained_models = [] #array of model objects\n",
    "losses = []\n",
    "for model_file in model_files:\n",
    "    params = Params(\"saved_models/\" + model_file + \"_hparams.yaml\", \"DEFAULT\")\n",
    "    losses.append(params.loss_fn)\n",
    "    model_type = model_file[:model_file.find(\"_\")]\n",
    "    model_shell = model_dict[model_type]\n",
    "    trained_model = model_shell.net(params).to(device)\n",
    "    trained_model.load_state_dict(torch.load(\"saved_models/\" + model_file + \".ckpt\"))\n",
    "    trained_models.append(trained_model)\n",
    "\n",
    "#Configure the subplots\n",
    "plt.rcParams['figure.figsize'] = [4 * (len(trained_models) + 1), 4 * len(channels)]\n",
    "fig, ax = plt.subplots(len(channels), len(trained_models)+1) #sharex=True, sharey=True)\n",
    "plt.figure(dpi=100)\n",
    "fig.subplots_adjust(hspace=0.05, wspace=0.05)\n",
    "#fig.tight_layout()\n",
    "\n",
    "#Now plot everything\n",
    "for channel_index, channel in enumerate(channels):\n",
    "    #Prepare input image\n",
    "    im = cv2.imread(path + \"_\" + str(channel) + \".png\")\n",
    "    im = im / 255.0\n",
    "    print(\"im has shape\", im.shape)\n",
    "    hr = im[:, :, channel_index]\n",
    "    input_hr = trans(hr).float()\n",
    "\n",
    "    #Plot the SRs and the HR image\n",
    "    for model_index, model in enumerate(trained_models):\n",
    "        sr = model(input_hr).detach().numpy().reshape((3, 200, 200))[0, :, :]\n",
    "        ax[channel_index][model_index].imshow(sr)\n",
    "\n",
    "        #Set the model labels\n",
    "        if channel_index == 0:\n",
    "            ax[0][model_index].set_xlabel(model_files[model_index] + \" (\" + losses[model_index] + \" loss)\")\n",
    "            ax[0][model_index].xaxis.set_label_position('top')\n",
    "\n",
    "        #Clear tick labels for all plots\n",
    "        ax[channel_index][model_index].set_xticklabels([])\n",
    "        ax[channel_index][model_index].set_yticklabels([])\n",
    "\n",
    "    #Plot the original\n",
    "    ax[channel_index][len(trained_models)].imshow(hr)\n",
    "    ax[channel_index][len(trained_models)].set_xticklabels([])\n",
    "    ax[channel_index][len(trained_models)].set_yticklabels([])\n",
    "    \n",
    "    #Channel titles\n",
    "    ax[channel_index][0].set_ylabel(channel)\n",
    "\n",
    "ax[0][len(trained_models)].set_xlabel(\"Original\")\n",
    "ax[0][len(trained_models)].xaxis.set_label_position('top')\n",
    "\n",
    "plt.show()\n"
   ]
  },
  {
   "cell_type": "code",
   "execution_count": null,
   "id": "64b39c69-2664-46ea-b2fe-17f5de49f540",
   "metadata": {},
   "outputs": [],
   "source": []
  }
 ],
 "metadata": {
  "kernelspec": {
   "display_name": "Python 3 (ipykernel)",
   "language": "python",
   "name": "python3"
  },
  "language_info": {
   "codemirror_mode": {
    "name": "ipython",
    "version": 3
   },
   "file_extension": ".py",
   "mimetype": "text/x-python",
   "name": "python",
   "nbconvert_exporter": "python",
   "pygments_lexer": "ipython3",
   "version": "3.11.5"
  }
 },
 "nbformat": 4,
 "nbformat_minor": 5
}
