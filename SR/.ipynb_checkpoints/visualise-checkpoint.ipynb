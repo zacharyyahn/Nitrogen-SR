{
 "cells": [
  {
   "cell_type": "code",
   "execution_count": 1,
   "id": "71b0771c-6cac-4d47-8944-7dec46018362",
   "metadata": {},
   "outputs": [],
   "source": [
    "from tqdm import tqdm\n",
    "from torchvision import transforms\n",
    "from utils.params import Params\n",
    "import models.rcan\n",
    "import models.ninab1\n",
    "import models.ninab2\n",
    "import models.edsr\n",
    "import torch\n",
    "import matplotlib.pyplot as plt\n",
    "import numpy as np\n",
    "%matplotlib inline"
   ]
  },
  {
   "cell_type": "code",
   "execution_count": 2,
   "id": "aec1012c-9bfb-4780-b191-a66807f1cb5c",
   "metadata": {},
   "outputs": [],
   "source": [
    "### CONFIG ###\n",
    "channels = [1, 2, 3, 4, 5, 6, 7, 8, 9, 10, 11]\n",
    "model_files = [\"ninab1_v10\", \"nina-custom_v0\"]\n",
    "path = \"../Dataset/Raw/sentinel-2/06-001-0007/S2B_MSIL2A_20210911T184929_N0301_R113_T10SFG_20210911T214647.npy\""
   ]
  },
  {
   "cell_type": "code",
   "execution_count": 3,
   "id": "4950c2f1-b09c-41f3-88cc-e4fc177b04ae",
   "metadata": {
    "scrolled": true
   },
   "outputs": [
    {
     "ename": "AttributeError",
     "evalue": "module 'models' has no attribute 'nina'",
     "output_type": "error",
     "traceback": [
      "\u001b[1;31m---------------------------------------------------------------------------\u001b[0m",
      "\u001b[1;31mAttributeError\u001b[0m                            Traceback (most recent call last)",
      "Cell \u001b[1;32mIn[3], line 7\u001b[0m\n\u001b[0;32m      1\u001b[0m \u001b[38;5;66;03m#Setup\u001b[39;00m\n\u001b[0;32m      2\u001b[0m model_dict \u001b[38;5;241m=\u001b[39m {\n\u001b[0;32m      3\u001b[0m     \u001b[38;5;124m\"\u001b[39m\u001b[38;5;124medsr\u001b[39m\u001b[38;5;124m\"\u001b[39m: models\u001b[38;5;241m.\u001b[39medsr,\n\u001b[0;32m      4\u001b[0m     \u001b[38;5;124m\"\u001b[39m\u001b[38;5;124mrcan\u001b[39m\u001b[38;5;124m\"\u001b[39m: models\u001b[38;5;241m.\u001b[39mrcan,\n\u001b[0;32m      5\u001b[0m     \u001b[38;5;124m\"\u001b[39m\u001b[38;5;124mninab1\u001b[39m\u001b[38;5;124m\"\u001b[39m: models\u001b[38;5;241m.\u001b[39mninab1,\n\u001b[0;32m      6\u001b[0m     \u001b[38;5;124m\"\u001b[39m\u001b[38;5;124mninab2\u001b[39m\u001b[38;5;124m\"\u001b[39m: models\u001b[38;5;241m.\u001b[39mninab2,\n\u001b[1;32m----> 7\u001b[0m     \u001b[38;5;124m\"\u001b[39m\u001b[38;5;124mnina-custom\u001b[39m\u001b[38;5;124m\"\u001b[39m: \u001b[43mmodels\u001b[49m\u001b[38;5;241;43m.\u001b[39;49m\u001b[43mnina\u001b[49m\u001b[38;5;241m-\u001b[39mcustom\n\u001b[0;32m      8\u001b[0m }\n\u001b[0;32m      9\u001b[0m device \u001b[38;5;241m=\u001b[39m torch\u001b[38;5;241m.\u001b[39mdevice(\u001b[38;5;124m'\u001b[39m\u001b[38;5;124mcuda:0\u001b[39m\u001b[38;5;124m'\u001b[39m \u001b[38;5;28;01mif\u001b[39;00m torch\u001b[38;5;241m.\u001b[39mcuda\u001b[38;5;241m.\u001b[39mis_available() \u001b[38;5;28;01melse\u001b[39;00m \u001b[38;5;124m'\u001b[39m\u001b[38;5;124mcpu\u001b[39m\u001b[38;5;124m'\u001b[39m)\n\u001b[0;32m     10\u001b[0m trans \u001b[38;5;241m=\u001b[39m transforms\u001b[38;5;241m.\u001b[39mCompose([\n\u001b[0;32m     11\u001b[0m     transforms\u001b[38;5;241m.\u001b[39mToTensor()])\n",
      "\u001b[1;31mAttributeError\u001b[0m: module 'models' has no attribute 'nina'"
     ]
    }
   ],
   "source": [
    "#Setup\n",
    "model_dict = {\n",
    "    \"edsr\": models.edsr,\n",
    "    \"rcan\": models.rcan,\n",
    "    \"ninab1\": models.ninab1,\n",
    "    \"ninab2\": models.ninab2,\n",
    "    \"nina-custom\": models.ninacustom\n",
    "}\n",
    "device = torch.device('cuda:0' if torch.cuda.is_available() else 'cpu')\n",
    "trans = transforms.Compose([\n",
    "    transforms.ToTensor()])\n",
    "\n",
    "#Load in and prepare the trained models\n",
    "trained_models = [] #array of model objects\n",
    "losses = []\n",
    "for model_file in model_files:\n",
    "    params = Params(\"saved_models/\" + model_file + \"_hparams.yaml\", \"DEFAULT\")\n",
    "    losses.append(params.loss_fn)\n",
    "    model_type = model_file[:model_file.find(\"_\")]\n",
    "    model_shell = model_dict[model_type]\n",
    "    trained_model = model_shell.net(params).to(device)\n",
    "    trained_model.load_state_dict(torch.load(\"saved_models/\" + model_file + \".ckpt\"))\n",
    "    trained_models.append(trained_model)\n",
    "\n",
    "#Configure the subplots\n",
    "plt.rcParams['figure.figsize'] = [4 * (len(trained_models) + 1), 4 * len(channels)]\n",
    "fig, ax = plt.subplots(len(channels), len(trained_models)+1) #sharex=True, sharey=True)\n",
    "plt.figure(dpi=100)\n",
    "fig.subplots_adjust(hspace=0.05, wspace=0.05)\n",
    "#fig.tight_layout()\n",
    "\n",
    "im = np.load(path).astype(\"double\")\n",
    "\n",
    "#Now plot everything\n",
    "for channel_index, channel in enumerate(channels):\n",
    "    #Prepare input image\n",
    "    hr = im[:, :, channel_index]\n",
    "    hr = (hr - np.min(hr)) / (np.max(hr) - np.min(hr))\n",
    "    input_hr = trans(hr).float()\n",
    "\n",
    "    #Plot the SRs and the HR image\n",
    "    for model_index, model in enumerate(trained_models):\n",
    "        sr = model(input_hr).detach().numpy().reshape((3, 400, 400))[0, :, :]\n",
    "        ax[channel_index][model_index].imshow(sr)\n",
    "\n",
    "        #Set the model labels\n",
    "        if channel_index == 0:\n",
    "            ax[0][model_index].set_xlabel(model_files[model_index] + \" (\" + losses[model_index] + \" loss)\")\n",
    "            ax[0][model_index].xaxis.set_label_position('top')\n",
    "\n",
    "        #Clear tick labels for all plots\n",
    "        ax[channel_index][model_index].set_xticklabels([])\n",
    "        ax[channel_index][model_index].set_yticklabels([])\n",
    "\n",
    "    #Plot the original\n",
    "    ax[channel_index][len(trained_models)].imshow(hr)\n",
    "    ax[channel_index][len(trained_models)].set_xticklabels([])\n",
    "    ax[channel_index][len(trained_models)].set_yticklabels([])\n",
    "    \n",
    "    #Channel titles\n",
    "    ax[channel_index][0].set_ylabel(channel)\n",
    "\n",
    "ax[0][len(trained_models)].set_xlabel(\"Original\")\n",
    "ax[0][len(trained_models)].xaxis.set_label_position('top')\n",
    "\n",
    "plt.show()\n"
   ]
  },
  {
   "cell_type": "code",
   "execution_count": null,
   "id": "64b39c69-2664-46ea-b2fe-17f5de49f540",
   "metadata": {},
   "outputs": [],
   "source": []
  }
 ],
 "metadata": {
  "kernelspec": {
   "display_name": "Python 3 (ipykernel)",
   "language": "python",
   "name": "python3"
  },
  "language_info": {
   "codemirror_mode": {
    "name": "ipython",
    "version": 3
   },
   "file_extension": ".py",
   "mimetype": "text/x-python",
   "name": "python",
   "nbconvert_exporter": "python",
   "pygments_lexer": "ipython3",
   "version": "3.11.5"
  }
 },
 "nbformat": 4,
 "nbformat_minor": 5
}
